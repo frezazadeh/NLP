{
  "nbformat": 4,
  "nbformat_minor": 0,
  "metadata": {
    "colab": {
      "provenance": []
    },
    "kernelspec": {
      "name": "python3",
      "display_name": "Python 3"
    },
    "language_info": {
      "name": "python"
    }
  },
  "cells": [
    {
      "cell_type": "code",
      "execution_count": 8,
      "metadata": {
        "id": "YDIQFSQ8ArL4"
      },
      "outputs": [],
      "source": [
        "# =========================================\n",
        "# Part 2: spaCy NLP\n",
        "# =========================================\n",
        "\n",
        "# !pip install -q spacy pandas\n",
        "# If running the first time, also download a model:\n",
        "# !python -m spacy download en_core_web_sm\n",
        "\n",
        "import spacy\n",
        "import pandas as pd\n",
        "from spacy.matcher import Matcher\n",
        "from spacy.tokens import Span\n",
        "\n",
        "# -------------------------\n",
        "# 1) Load spaCy pipeline\n",
        "# -------------------------\n",
        "# Small English model is fine for tutorial. If you have vectors, you can try en_core_web_md.\n",
        "nlp = spacy.load(\"en_core_web_sm\")"
      ]
    },
    {
      "cell_type": "code",
      "source": [
        "# -------------------------\n",
        "# 2) Sample travel/hostel data\n",
        "# -------------------------\n",
        "data = [\n",
        "    {\n",
        "        \"id\": 1,\n",
        "        \"text\": \"I'm selling lemons for $5 today. Also, I need a dorm bed in Tokyo for 3 nights near Shibuya.\"\n",
        "    },\n",
        "    {\n",
        "        \"id\": 2,\n",
        "        \"text\": \"Please book a private room at Sakura Hostel Asakusa from Aug 21–24, budget under 8000 JPY per night.\"\n",
        "    },\n",
        "    {\n",
        "        \"id\": 3,\n",
        "        \"text\": \"Looking for a cheap hostel in Barcelona, close to La Rambla. Arrival on 10/02, leaving on 10/06.\"\n",
        "    },\n",
        "    {\n",
        "        \"id\": 4,\n",
        "        \"text\": \"Can you recommend a capsule hotel in Osaka? Ideally near Namba station and under $40.\"\n",
        "    },\n",
        "    {\n",
        "        \"id\": 5,\n",
        "        \"text\": \"We want to stay in Kyoto during Golden Week. 2 adults, 1 child, total budget about 60,000 JPY.\"\n",
        "    }\n",
        "]\n",
        "df = pd.DataFrame(data)\n"
      ],
      "metadata": {
        "id": "qhtDAikeA-gf"
      },
      "execution_count": 9,
      "outputs": []
    },
    {
      "cell_type": "code",
      "source": [
        "# -------------------------\n",
        "# 3) Helpers: rule-based extensions\n",
        "# -------------------------\n",
        "matcher = Matcher(nlp.vocab)\n",
        "\n",
        "# Price pattern: money symbol/amount + currency (optional)\n",
        "price_pattern = [\n",
        "    [{\"LIKE_NUM\": True}, {\"LOWER\": {\"IN\": [\"jpy\", \"yen\"]}}],\n",
        "    [{\"ORTH\": \"$\"}, {\"LIKE_NUM\": True}],\n",
        "    [{\"LIKE_NUM\": True}, {\"ORTH\": \"$\"}],              # rare format\n",
        "    [{\"LIKE_NUM\": True}, {\"LOWER\": \"usd\"}],\n",
        "    [{\"LOWER\": {\"IN\": [\"under\", \"below\", \"<\"]}}, {\"ORTH\": \"$\"}, {\"LIKE_NUM\": True}],\n",
        "    [{\"LOWER\": {\"IN\": [\"under\", \"below\"]}}, {\"LIKE_NUM\": True}, {\"LOWER\": {\"IN\": [\"jpy\", \"yen\"]}}]\n",
        "]\n",
        "matcher.add(\"PRICE\", price_pattern)\n",
        "\n",
        "# Nights length pattern: number + nights/night\n",
        "nights_pattern = [[{\"LIKE_NUM\": True}, {\"LOWER\": {\"IN\": [\"night\", \"nights\"]}}]]\n",
        "matcher.add(\"NIGHTS\", nights_pattern)\n",
        "\n",
        "# Room type pattern: private room/dorm/capsule\n",
        "room_pattern = [\n",
        "    [{\"LOWER\": \"private\"}, {\"LOWER\": \"room\"}],\n",
        "    [{\"LOWER\": \"dorm\"}, {\"LOWER\": {\"IN\": [\"bed\", \"room\"]}}],\n",
        "    [{\"LOWER\": \"capsule\"}, {\"LOWER\": \"hotel\"}]\n",
        "]\n",
        "matcher.add(\"ROOMTYPE\", room_pattern)"
      ],
      "metadata": {
        "id": "LsBFuNlMBE01"
      },
      "execution_count": 10,
      "outputs": []
    },
    {
      "cell_type": "code",
      "source": [
        "# -------------------------\n",
        "# 4) Pipeline: process one doc\n",
        "# -------------------------\n",
        "def analyze_request(text: str) -> dict:\n",
        "    doc = nlp(text)\n",
        "\n",
        "    # Tokens & lemmas (with stopword flags)\n",
        "    tokens = [t.text for t in doc]\n",
        "    lemmas = [t.lemma_ for t in doc]\n",
        "    stop_flags = [t.is_stop for t in doc]\n",
        "    pos_tags = [f\"{t.text}/{t.pos_}\" for t in doc]\n",
        "\n",
        "    # Sentence segmentation\n",
        "    sents = [s.text for s in doc.sents]\n",
        "\n",
        "    # Noun chunks (good for quick subject/object)\n",
        "    chunks = [chunk.text for chunk in doc.noun_chunks]\n",
        "\n",
        "    # Named Entities (LOC, GPE, MONEY, DATE, ORG, etc.)\n",
        "    ents = [f\"{ent.text}<{ent.label_}>\" for ent in doc.ents]\n",
        "\n",
        "    # Rule-based matches (price/nights/roomtype)\n",
        "    matches = matcher(doc)\n",
        "    prices = []\n",
        "    nights = []\n",
        "    roomtypes = []\n",
        "    for mid, start, end in matches:\n",
        "        label = nlp.vocab.strings[mid]\n",
        "        span = doc[start:end].text\n",
        "        if label == \"PRICE\":\n",
        "            prices.append(span)\n",
        "        elif label == \"NIGHTS\":\n",
        "            nights.append(span)\n",
        "        elif label == \"ROOMTYPE\":\n",
        "            roomtypes.append(span)\n",
        "\n",
        "    # Simple “extracted intent”\n",
        "    intent = []\n",
        "    if any(w.lower_ in {\"book\", \"reserve\"} for w in doc):\n",
        "        intent.append(\"booking_intent\")\n",
        "    if any(w.lower_ in {\"recommend\"} for w in doc):\n",
        "        intent.append(\"recommendation_intent\")\n",
        "    if \"budget\" in [t.lemma_ for t in doc] or prices:\n",
        "        intent.append(\"budget_constraint\")\n",
        "\n",
        "    return {\n",
        "        \"text\": text,\n",
        "        \"sentences\": sents,\n",
        "        \"tokens\": tokens,\n",
        "        \"lemmas\": lemmas,\n",
        "        \"stopword_flags\": stop_flags,\n",
        "        \"pos_tags\": pos_tags,\n",
        "        \"noun_chunks\": chunks,\n",
        "        \"entities\": ents,\n",
        "        \"prices\": list(dict.fromkeys(prices)),\n",
        "        \"nights\": list(dict.fromkeys(nights)),\n",
        "        \"room_types\": list(dict.fromkeys(roomtypes)),\n",
        "        \"intent_flags\": list(dict.fromkeys(intent))\n",
        "    }"
      ],
      "metadata": {
        "id": "ixLsALEBBk-I"
      },
      "execution_count": 5,
      "outputs": []
    },
    {
      "cell_type": "code",
      "source": [
        "# -------------------------\n",
        "# 5) Apply to DataFrame\n",
        "# -------------------------\n",
        "results = df[\"text\"].apply(analyze_request)\n",
        "out = pd.DataFrame(results.tolist()).join(df[[\"id\"]])\n",
        "# Reorder columns for readability\n",
        "out = out[[\"id\", \"text\", \"sentences\", \"tokens\", \"lemmas\", \"stopword_flags\",\n",
        "           \"pos_tags\", \"noun_chunks\", \"entities\", \"prices\", \"nights\",\n",
        "           \"room_types\", \"intent_flags\"]]\n",
        "\n",
        "# Preview\n",
        "pd.set_option(\"display.max_colwidth\", 150)\n",
        "print(out.to_string(index=False))"
      ],
      "metadata": {
        "colab": {
          "base_uri": "https://localhost:8080/"
        },
        "id": "Dn6g9p5BBoEK",
        "outputId": "63702686-bd06-458c-8f86-de1f43499387"
      },
      "execution_count": 11,
      "outputs": [
        {
          "output_type": "stream",
          "name": "stdout",
          "text": [
            " id                                                                                                 text                                                                                              sentences                                                                                                                      tokens                                                                                                                      lemmas                                                                                                                                                   stopword_flags                                                                                                                                                                                                                                      pos_tags                                                                 noun_chunks                                                                                        entities                     prices     nights      room_types                               intent_flags\n",
            "  1         I'm selling lemons for $5 today. Also, I need a dorm bed in Tokyo for 3 nights near Shibuya.        [I'm selling lemons for $5 today., Also, I need a dorm bed in Tokyo for 3 nights near Shibuya.]  [I, 'm, selling, lemons, for, $, 5, today, ., Also, ,, I, need, a, dorm, bed, in, Tokyo, for, 3, nights, near, Shibuya, .]       [I, be, sell, lemon, for, $, 5, today, ., also, ,, I, need, a, dorm, bed, in, Tokyo, for, 3, night, near, Shibuya, .] [True, True, False, False, True, False, False, False, False, True, False, True, False, True, False, False, True, False, True, False, False, False, False, False] [I/PRON, 'm/AUX, selling/VERB, lemons/NOUN, for/ADP, $/SYM, 5/NUM, today/NOUN, ./PUNCT, Also/ADV, ,/PUNCT, I/PRON, need/VERB, a/DET, dorm/NOUN, bed/NOUN, in/ADP, Tokyo/PROPN, for/ADP, 3/NUM, nights/NOUN, near/ADP, Shibuya/PROPN, ./PUNCT]                        [I, lemons, I, a dorm bed, Tokyo, 3 nights, Shibuya]                               [5<MONEY>, today<DATE>, Tokyo<GPE>, 3 nights<DATE>, Shibuya<GPE>]                       [$5] [3 nights]      [dorm bed]                        [budget_constraint]\n",
            "  2 Please book a private room at Sakura Hostel Asakusa from Aug 21–24, budget under 8000 JPY per night. [Please book a private room at Sakura Hostel Asakusa from Aug 21–24, budget under 8000 JPY per night.] [Please, book, a, private, room, at, Sakura, Hostel, Asakusa, from, Aug, 21–24, ,, budget, under, 8000, JPY, per, night, .] [please, book, a, private, room, at, Sakura, Hostel, Asakusa, from, Aug, 21–24, ,, budget, under, 8000, JPY, per, night, .]                           [True, False, True, False, False, True, False, False, False, True, False, False, False, False, True, False, False, True, False, False]              [Please/INTJ, book/VERB, a/DET, private/ADJ, room/NOUN, at/ADP, Sakura/PROPN, Hostel/PROPN, Asakusa/PROPN, from/ADP, Aug/PROPN, 21–24/PROPN, ,/PUNCT, budget/NOUN, under/ADP, 8000/NUM, JPY/PROPN, per/ADP, night/NOUN, ./PUNCT]              [a private room, Sakura Hostel Asakusa, Aug 21–24, JPY, night]                                                  [Sakura Hostel Asakusa<FAC>, under 8000<DATE>] [under 8000 JPY, 8000 JPY]         []  [private room]        [booking_intent, budget_constraint]\n",
            "  3     Looking for a cheap hostel in Barcelona, close to La Rambla. Arrival on 10/02, leaving on 10/06.    [Looking for a cheap hostel in Barcelona, close to La Rambla., Arrival on 10/02, leaving on 10/06.]  [Looking, for, a, cheap, hostel, in, Barcelona, ,, close, to, La, Rambla, ., Arrival, on, 10/02, ,, leaving, on, 10/06, .]       [look, for, a, cheap, hostel, in, Barcelona, ,, close, to, La, Rambla, ., arrival, on, 10/02, ,, leave, on, 10/06, .]                    [False, True, True, False, False, True, False, False, False, True, False, False, False, False, True, False, False, False, True, False, False]              [Looking/VERB, for/ADP, a/DET, cheap/ADJ, hostel/NOUN, in/ADP, Barcelona/PROPN, ,/PUNCT, close/ADJ, to/ADP, La/PROPN, Rambla/PROPN, ./PUNCT, Arrival/NOUN, on/ADP, 10/02/NUM, ,/PUNCT, leaving/VERB, on/ADP, 10/06/NUM, ./PUNCT]                             [a cheap hostel, Barcelona, La Rambla, Arrival]                           [Barcelona<GPE>, La Rambla<PERSON>, 10/02<CARDINAL>, 10/06<CARDINAL>]                         []         []              []                                         []\n",
            "  4                Can you recommend a capsule hotel in Osaka? Ideally near Namba station and under $40.               [Can you recommend a capsule hotel in Osaka?, Ideally near Namba station and under $40.]                 [Can, you, recommend, a, capsule, hotel, in, Osaka, ?, Ideally, near, Namba, station, and, under, $, 40, .]                 [can, you, recommend, a, capsule, hotel, in, Osaka, ?, ideally, near, Namba, station, and, under, $, 40, .]                                         [True, True, False, True, False, False, True, False, False, False, False, False, False, True, True, False, False, False]                                             [Can/AUX, you/PRON, recommend/VERB, a/DET, capsule/ADJ, hotel/NOUN, in/ADP, Osaka/PROPN, ?/PUNCT, Ideally/ADV, near/ADP, Namba/PROPN, station/NOUN, and/CCONJ, under/ADP, $/SYM, 40/NUM, ./PUNCT]                                [you, a capsule hotel, Osaka, Namba station]                                                             [Osaka<GPE>, Namba<ORG>, 40<MONEY>]           [under $40, $40]         [] [capsule hotel] [recommendation_intent, budget_constraint]\n",
            "  5       We want to stay in Kyoto during Golden Week. 2 adults, 1 child, total budget about 60,000 JPY.      [We want to stay in Kyoto during Golden Week., 2 adults, 1 child, total budget about 60,000 JPY.]   [We, want, to, stay, in, Kyoto, during, Golden, Week, ., 2, adults, ,, 1, child, ,, total, budget, about, 60,000, JPY, .]    [we, want, to, stay, in, Kyoto, during, Golden, Week, ., 2, adult, ,, 1, child, ,, total, budget, about, 60,000, JPY, .]            [True, False, True, False, True, False, True, False, False, False, False, False, False, False, False, False, False, False, True, False, False, False]      [We/PRON, want/VERB, to/PART, stay/VERB, in/ADP, Kyoto/PROPN, during/ADP, Golden/PROPN, Week/PROPN, ./PUNCT, 2/NUM, adults/NOUN, ,/PUNCT, 1/NUM, child/NOUN, ,/PUNCT, total/ADJ, budget/NOUN, about/ADP, 60,000/NUM, JPY/PROPN, ./PUNCT] [We, Kyoto, Golden Week, 2 adults, 1 child, total budget, about 60,000 JPY] [Kyoto<GPE>, Golden Week<EVENT>, 2<CARDINAL>, 1<CARDINAL>, about 60,000<CARDINAL>, JPY<PERSON>]               [60,000 JPY]         []              []                        [budget_constraint]\n"
          ]
        }
      ]
    },
    {
      "cell_type": "code",
      "source": [
        "# -------------------------\n",
        "# 6) (Optional) Rule-based label for destinations\n",
        "# -------------------------\n",
        "# If you want a custom entity label for Destinations using EntityRuler\n",
        "from spacy.pipeline import EntityRuler\n",
        "ruler = nlp.add_pipe(\"entity_ruler\", before=\"ner\")\n",
        "patterns = [\n",
        "    {\"label\": \"DESTINATION\", \"pattern\": \"Tokyo\"},\n",
        "    {\"label\": \"DESTINATION\", \"pattern\": \"Osaka\"},\n",
        "    {\"label\": \"DESTINATION\", \"pattern\": \"Kyoto\"},\n",
        "    {\"label\": \"DESTINATION\", \"pattern\": \"Barcelona\"},\n",
        "    {\"label\": \"DESTINATION\", \"pattern\": \"Shibuya\"},\n",
        "    {\"label\": \"DESTINATION\", \"pattern\": \"Namba\"},\n",
        "    {\"label\": \"DESTINATION\", \"pattern\": \"La Rambla\"},\n",
        "]\n",
        "ruler.add_patterns(patterns)\n",
        "\n",
        "# Re-run on one sample to show DESTINATION tags appear in ents\n",
        "sample_doc = nlp(df.loc[1, \"text\"])\n",
        "print(\"With EntityRuler:\", [(ent.text, ent.label_) for ent in sample_doc.ents])"
      ],
      "metadata": {
        "colab": {
          "base_uri": "https://localhost:8080/"
        },
        "id": "03BMcUpQBqe4",
        "outputId": "18f35552-b0e4-4807-c2cd-63468e585dd8"
      },
      "execution_count": 12,
      "outputs": [
        {
          "output_type": "stream",
          "name": "stdout",
          "text": [
            "With EntityRuler: [('Sakura Hostel Asakusa', 'FAC'), ('under 8000', 'DATE')]\n"
          ]
        }
      ]
    }
  ]
}